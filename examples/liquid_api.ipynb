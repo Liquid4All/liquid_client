{
  "cells": [
    {
      "cell_type": "markdown",
      "metadata": {},
      "source": [
        "# Liquid AI API\n",
        "\n",
        "This notebook demonstrate the rest of the api usages besides openai compatible apis.\n"
      ]
    },
    {
      "cell_type": "markdown",
      "metadata": {},
      "source": [
        "### Baisc Completion\n"
      ]
    },
    {
      "cell_type": "markdown",
      "metadata": {},
      "source": [
        "Add environment variables\n",
        "\n",
        "```bash\n",
        "export LIQUID_URL=\"https://labs.liquid.ai/api/v1\"\n",
        "export LIQUID_API_KEY=\"9cba1.....\"\n",
        "```\n"
      ]
    },
    {
      "cell_type": "code",
      "execution_count": 4,
      "metadata": {},
      "outputs": [],
      "source": [
        "import liquidai\n",
        "from getpass import getpass\n",
        "\n",
        "client = liquidai.Client(\n",
        "    base_url=\"https://labs.liquid.ai/api/v1\",\n",
        "    api_key=getpass(\"Enter your Liquid AI API Key: \"),\n",
        ")"
      ]
    },
    {
      "cell_type": "code",
      "execution_count": 5,
      "metadata": {},
      "outputs": [
        {
          "name": "stdout",
          "output_type": "stream",
          "text": [
            "{'status': 'ok', 'message': {'role': 'assistant', 'content': 'The largest animal on Earth is the blue whale'}}\n"
          ]
        }
      ],
      "source": [
        "messages = [\n",
        "    {\n",
        "        \"role\": \"user\",\n",
        "        \"content\": \"system\\nYou are Baltazar, a friendly AI assistant trained by Liquid AI!\",\n",
        "    },\n",
        "    {\"role\": \"user\", \"content\": \"What is the largest animal on earth?\"},\n",
        "]\n",
        "response = client.complete(\n",
        "    messages,\n",
        "    model=\"liquid-preview-0.1\",\n",
        "    max_tokens=10,\n",
        "    top_p=0.9,\n",
        "    temperature=0.9,\n",
        ")\n",
        "print(response)"
      ]
    },
    {
      "cell_type": "markdown",
      "metadata": {},
      "source": [
        "Default values will be used for the model if not specified.\n",
        "For example:\n",
        "\n",
        "- model: \"liquid-preview-0.1\"\n",
        "- max_tokens: 2048\n",
        "- top_p: 0.9\n",
        "- temperature: 0.9\n"
      ]
    },
    {
      "cell_type": "code",
      "execution_count": 7,
      "metadata": {},
      "outputs": [
        {
          "name": "stdout",
          "output_type": "stream",
          "text": [
            "{'status': 'ok', 'message': {'role': 'assistant', 'content': 'The largest animal on earth is the Blue Whale (Balaenoptera musculus). It can reach lengths of up to 100 feet (30 meters) and can weigh as much as 200 tons (180 metric tonnes).'}}\n"
          ]
        }
      ],
      "source": [
        "messages = [\n",
        "    {\n",
        "        \"role\": \"user\",\n",
        "        \"content\": \"system\\nYou are Baltazar, a friendly AI assistant trained by Liquid AI!\",\n",
        "    },\n",
        "    {\"role\": \"user\", \"content\": \"What is the largest animal on earth?\"},\n",
        "]\n",
        "response = client.complete(messages)\n",
        "print(response)"
      ]
    },
    {
      "cell_type": "markdown",
      "metadata": {},
      "source": [
        "### List models\n"
      ]
    },
    {
      "cell_type": "code",
      "execution_count": 8,
      "metadata": {},
      "outputs": [
        {
          "data": {
            "text/plain": [
              "['liquid-preview-0.1', 'liquid-micro-0.1', 'llama3-70B']"
            ]
          },
          "execution_count": 8,
          "metadata": {},
          "output_type": "execute_result"
        }
      ],
      "source": [
        "client.list_models()"
      ]
    },
    {
      "cell_type": "markdown",
      "metadata": {},
      "source": [
        "### Rag with files\n"
      ]
    },
    {
      "cell_type": "code",
      "execution_count": 12,
      "metadata": {},
      "outputs": [
        {
          "name": "stdout",
          "output_type": "stream",
          "text": [
            "<_io.BufferedReader name='test.txt'>\n",
            "Uploaded test.txt to test.txt\n"
          ]
        }
      ],
      "source": [
        "test_file = \"test.txt\"\n",
        "with open(test_file, \"w\") as f:\n",
        "    f.write(\"The name of the CEO of Liquid is Ramin Hasani.\")\n",
        "db_document = client.upload_file(test_file)\n",
        "print(f\"Uploaded {test_file} to {db_document['name']}\")"
      ]
    },
    {
      "cell_type": "code",
      "execution_count": 13,
      "metadata": {},
      "outputs": [
        {
          "name": "stdout",
          "output_type": "stream",
          "text": [
            "Files: [{'id': '4333f248-6261-4aab-94f7-244863de5083', 'name': 'test.txt', 'created_at': '2024-04-30T16:40:38.277873', 'size': 46}, {'id': '8bd83819-eca6-4df5-b22f-3df7843f69a0', 'name': 'liquid-ai.txt', 'created_at': '2024-04-26T16:27:11.057260', 'size': 36}, {'id': 'd461c648-cf84-4fb3-9042-fe002673f29e', 'name': 'attention_is_all_you_need.pdf', 'created_at': '2024-04-26T16:26:52.250239', 'size': 2215244}]\n"
          ]
        }
      ],
      "source": [
        "files = client.list_files()\n",
        "print(f\"Files: {files}\")"
      ]
    },
    {
      "cell_type": "code",
      "execution_count": 14,
      "metadata": {},
      "outputs": [
        {
          "name": "stdout",
          "output_type": "stream",
          "text": [
            "{'status': 'ok', 'message': {'role': 'assistant', 'content': 'The CEO of Liquid is Ramin Hasani.'}}\n"
          ]
        }
      ],
      "source": [
        "messages = [{\"role\": \"user\", \"content\": \"Who is the CEO of Liquid?\", \"files\": [\"test.txt\"]}]\n",
        "response = client.complete(messages)\n",
        "print(response)"
      ]
    },
    {
      "cell_type": "code",
      "execution_count": 15,
      "metadata": {},
      "outputs": [
        {
          "name": "stdout",
          "output_type": "stream",
          "text": [
            "Deleted test.txt\n",
            "Files: [{'id': '8bd83819-eca6-4df5-b22f-3df7843f69a0', 'name': 'liquid-ai.txt', 'created_at': '2024-04-26T16:27:11.057260', 'size': 36}, {'id': 'd461c648-cf84-4fb3-9042-fe002673f29e', 'name': 'attention_is_all_you_need.pdf', 'created_at': '2024-04-26T16:26:52.250239', 'size': 2215244}]\n"
          ]
        }
      ],
      "source": [
        "client.delete_file(test_file)\n",
        "print(f\"Deleted {test_file}\")\n",
        "files = client.list_files()\n",
        "print(f\"Files: {files}\")"
      ]
    },
    {
      "cell_type": "code",
      "execution_count": 16,
      "metadata": {},
      "outputs": [
        {
          "name": "stdout",
          "output_type": "stream",
          "text": [
            "Deleted test.txt locally\n"
          ]
        }
      ],
      "source": [
        "# Delete the file locally\n",
        "import os\n",
        "\n",
        "os.remove(test_file)\n",
        "print(f\"Deleted {test_file} locally\")"
      ]
    }
  ],
  "metadata": {
    "kernelspec": {
      "display_name": "venv",
      "language": "python",
      "name": "python3"
    },
    "language_info": {
      "codemirror_mode": {
        "name": "ipython",
        "version": 3
      },
      "file_extension": ".py",
      "mimetype": "text/x-python",
      "name": "python",
      "nbconvert_exporter": "python",
      "pygments_lexer": "ipython3",
      "version": "3.10.9"
    }
  },
  "nbformat": 4,
  "nbformat_minor": 2
}
