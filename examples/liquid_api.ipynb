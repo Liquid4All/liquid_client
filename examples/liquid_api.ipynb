{
 "cells": [
  {
   "cell_type": "markdown",
   "metadata": {},
   "source": [
    "# Liquid AI API\n",
    "\n",
    "This notebook demonstrate the rest of the api usages besides openai compatible apis.\n"
   ]
  },
  {
   "cell_type": "markdown",
   "metadata": {},
   "source": [
    "### Baisc Completion\n"
   ]
  },
  {
   "cell_type": "markdown",
   "metadata": {},
   "source": [
    "Add environment variables\n",
    "\n",
    "```bash\n",
    "export LIQUID_URL=\"https://labs.liquid.ai/api/v1\"\n",
    "export LIQUID_API_KEY=\"9cba1.....\"\n",
    "```\n"
   ]
  },
  {
   "cell_type": "code",
   "execution_count": 15,
   "metadata": {},
   "outputs": [],
   "source": [
    "import liquidai\n",
    "import getpass\n",
    "\n",
    "api_key = getpass.getpass()\n",
    "client = liquidai.Client(\n",
    "    base_url=\"https://labs.liquid.ai/api/v1\",\n",
    "    api_key=api_key,\n",
    ")"
   ]
  },
  {
   "cell_type": "code",
   "execution_count": 16,
   "metadata": {},
   "outputs": [
    {
     "name": "stdout",
     "output_type": "stream",
     "text": [
      "{'status': 'ok', 'message': {'role': 'assistant', 'content': \"\\nThe largest animal on Earth is the blue whale (Balaenoptera musculus). It can grow up to 100 feet (30 meters) long and weigh as much as 200 tons (180 metric tonnes). These magnificent creatures are found in all the world's oceans, and their heart alone can weigh as much as a car!\"}}\n"
     ]
    }
   ],
   "source": [
    "messages = [\n",
    "    {\n",
    "        \"role\": \"user\",\n",
    "        \"content\": \"system\\nYou are Baltazar, a friendly AI assistant trained by Liquid AI!\",\n",
    "    },\n",
    "    {\"role\": \"user\", \"content\": \"What is the largest animal on earth?\"},\n",
    "]\n",
    "response = client.complete(\n",
    "    messages,\n",
    "    model=\"liquid-beacon-1.0\",\n",
    "    max_new_tokens=2048,\n",
    "    top_p=0.9,\n",
    "    temperature=0.9,\n",
    "    top_k=0,\n",
    ")\n",
    "print(response)"
   ]
  },
  {
   "cell_type": "markdown",
   "metadata": {},
   "source": [
    "### List models\n"
   ]
  },
  {
   "cell_type": "code",
   "execution_count": 5,
   "metadata": {},
   "outputs": [
    {
     "data": {
      "text/plain": [
       "['liquid-beacon-1.0']"
      ]
     },
     "execution_count": 5,
     "metadata": {},
     "output_type": "execute_result"
    }
   ],
   "source": [
    "client.list_models()"
   ]
  },
  {
   "cell_type": "markdown",
   "metadata": {},
   "source": [
    "### Rag with files\n"
   ]
  },
  {
   "cell_type": "code",
   "execution_count": 6,
   "metadata": {},
   "outputs": [
    {
     "name": "stdout",
     "output_type": "stream",
     "text": [
      "<_io.BufferedReader name='test.txt'>\n",
      "Uploaded test.txt to test.txt\n"
     ]
    }
   ],
   "source": [
    "test_file = \"test.txt\"\n",
    "with open(test_file, \"w\") as f:\n",
    "    f.write(\"The name of the CEO of Liquid is Ramin Hasani.\")\n",
    "db_document = client.upload_file(test_file)\n",
    "print(f\"Uploaded {test_file} to {db_document['name']}\")"
   ]
  },
  {
   "cell_type": "code",
   "execution_count": 7,
   "metadata": {},
   "outputs": [
    {
     "name": "stdout",
     "output_type": "stream",
     "text": [
      "Files: [{'id': 'cef74c44-dd66-468c-bdb2-468b9d29a538', 'name': 'test.txt', 'created_at': '2024-04-16T22:55:50.945196', 'size': 46}, {'id': '2bf14226-5eaa-45fd-912d-77725c10e4df', 'name': 'attention_is_all_you_need.pdf', 'created_at': '2024-04-16T22:04:54.817733', 'size': 2215244}, {'id': '44de4054-3531-499b-80ae-a5f5e6507cc0', 'name': 'liquid-ai.txt', 'created_at': '2024-04-16T22:04:43.590349', 'size': 36}]\n"
     ]
    }
   ],
   "source": [
    "files = client.list_files()\n",
    "print(f\"Files: {files}\")"
   ]
  },
  {
   "cell_type": "code",
   "execution_count": 8,
   "metadata": {},
   "outputs": [
    {
     "name": "stdout",
     "output_type": "stream",
     "text": [
      "{'status': 'ok', 'message': {'role': 'assistant', 'content': 'The CEO of Liquid is Ramin Hasani.'}}\n"
     ]
    }
   ],
   "source": [
    "messages = [\n",
    "    {\"role\": \"user\", \"content\": \"Who is the CEO of Liquid?\", \"files\": [\"test.txt\"]}\n",
    "]\n",
    "response = client.complete(messages)\n",
    "print(response)"
   ]
  },
  {
   "cell_type": "code",
   "execution_count": 9,
   "metadata": {},
   "outputs": [
    {
     "name": "stdout",
     "output_type": "stream",
     "text": [
      "Deleted test.txt\n",
      "Files: [{'id': '2bf14226-5eaa-45fd-912d-77725c10e4df', 'name': 'attention_is_all_you_need.pdf', 'created_at': '2024-04-16T22:04:54.817733', 'size': 2215244}, {'id': '44de4054-3531-499b-80ae-a5f5e6507cc0', 'name': 'liquid-ai.txt', 'created_at': '2024-04-16T22:04:43.590349', 'size': 36}]\n"
     ]
    }
   ],
   "source": [
    "client.delete_file(test_file)\n",
    "print(f\"Deleted {test_file}\")\n",
    "files = client.list_files()\n",
    "print(f\"Files: {files}\")"
   ]
  },
  {
   "cell_type": "code",
   "execution_count": 10,
   "metadata": {},
   "outputs": [
    {
     "name": "stdout",
     "output_type": "stream",
     "text": [
      "Deleted test.txt locally\n"
     ]
    }
   ],
   "source": [
    "# Delete the file locally\n",
    "import os\n",
    "\n",
    "os.remove(test_file)\n",
    "print(f\"Deleted {test_file} locally\")"
   ]
  }
 ],
 "metadata": {
  "kernelspec": {
   "display_name": "venv",
   "language": "python",
   "name": "python3"
  },
  "language_info": {
   "codemirror_mode": {
    "name": "ipython",
    "version": 3
   },
   "file_extension": ".py",
   "mimetype": "text/x-python",
   "name": "python",
   "nbconvert_exporter": "python",
   "pygments_lexer": "ipython3",
   "version": "3.10.9"
  }
 },
 "nbformat": 4,
 "nbformat_minor": 2
}
