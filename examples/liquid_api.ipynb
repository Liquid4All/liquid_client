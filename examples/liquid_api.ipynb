{
 "cells": [
  {
   "cell_type": "markdown",
   "metadata": {},
   "source": [
    "# Liquid AI API\n",
    "\n",
    "This notebook demonstrate the rest of the api usages besides openai compatible apis.\n"
   ]
  },
  {
   "cell_type": "markdown",
   "metadata": {},
   "source": [
    "### Baisc Completion\n"
   ]
  },
  {
   "cell_type": "markdown",
   "metadata": {},
   "source": [
    "Add environment variables\n",
    "\n",
    "```bash\n",
    "export LIQUID_URL=\"https://labs.liquid.ai\"\n",
    "export LIQUID_API_KEY=\"9cba1.....\"\n",
    "```\n"
   ]
  },
  {
   "cell_type": "code",
   "execution_count": 1,
   "metadata": {},
   "outputs": [],
   "source": [
    "import liquidai\n",
    "\n",
    "client = liquidai.Client(\n",
    "    base_url=\"https://labs.liquid.ai/api/v1\",\n",
    "    api_key=\"7710b7...\",\n",
    ")"
   ]
  },
  {
   "cell_type": "code",
   "execution_count": 6,
   "metadata": {},
   "outputs": [
    {
     "name": "stdout",
     "output_type": "stream",
     "text": [
      "{'status': 'ok', 'message': {'role': 'assistant', 'content': '\\nThe largest animal on Earth is the blue whale (Balaenoptera musculus). It can grow up to 100 feet (30 meters) long and weigh as much as 200 tons (180 metric tonnes). These magnificent creatures live in the ocean and are known for their incredible size and gentle nature.'}}\n"
     ]
    }
   ],
   "source": [
    "messages = [\n",
    "    {\"role\": \"user\", \"content\": \"system\\nYou are Baltazar, a friendly AI assistant trained by Liquid AI!\"},\n",
    "    {\"role\": \"user\", \"content\": \"What is the largest animal on earth?\"},\n",
    "]\n",
    "response = client.complete(\n",
    "    messages, model=\"liquid-beacon-1.0\", max_new_tokens=2048, top_p=0.9, temperature=0.9, top_k=0\n",
    ")\n",
    "print(response)"
   ]
  },
  {
   "cell_type": "markdown",
   "metadata": {},
   "source": [
    "### Rag with files\n"
   ]
  },
  {
   "cell_type": "code",
   "execution_count": 3,
   "metadata": {},
   "outputs": [
    {
     "name": "stdout",
     "output_type": "stream",
     "text": [
      "<_io.BufferedReader name='test.txt'>\n",
      "Uploaded test.txt to test.txt\n"
     ]
    }
   ],
   "source": [
    "test_file = \"test.txt\"\n",
    "with open(test_file, \"w\") as f:\n",
    "    f.write(\"The name of the CEO of Liquid is Ramin Hasani.\")\n",
    "db_document = client.upload_file(test_file)\n",
    "print(f\"Uploaded {test_file} to {db_document['name']}\")"
   ]
  },
  {
   "cell_type": "code",
   "execution_count": 7,
   "metadata": {},
   "outputs": [
    {
     "name": "stdout",
     "output_type": "stream",
     "text": [
      "Files: [{'id': '6a693044-ad28-40ac-8c24-1122719c70d7', 'name': 'test.txt', 'created_at': '2024-04-16T19:35:27.823495', 'size': 46}, {'id': 'af749359-894a-4337-8ed1-d27d2cbc902a', 'name': 'file1.txt', 'created_at': '2024-04-16T19:30:24.691463', 'size': 25}, {'id': '721f9e33-69a7-4ff9-95b8-f517a1c95a0c', 'name': 'file3.txt', 'created_at': '2024-04-16T19:30:24.503594', 'size': 25}, {'id': '483b1d34-eb63-4f81-a1d6-c3d21ac4ae4e', 'name': 'file2.txt', 'created_at': '2024-04-16T19:30:24.311238', 'size': 43}, {'id': '8b54592d-a410-493a-8608-d5e3f09752f5', 'name': 'liquid-ai.txt', 'created_at': '2024-04-16T15:11:53.504890', 'size': 36}, {'id': 'f3ffc0dd-7a46-47d1-b77d-c654812aa9aa', 'name': 'attention_is_all_you_need.pdf', 'created_at': '2024-04-09T18:29:35.424818', 'size': 2215244}, {'id': '90dd0519-28c5-42ec-ad88-e31a6eeca2c7', 'name': 'gaza-news.txt', 'created_at': '2024-04-09T18:26:21.328725', 'size': 7130}]\n"
     ]
    }
   ],
   "source": [
    "files = client.list_files()\n",
    "print(f\"Files: {files}\")"
   ]
  },
  {
   "cell_type": "code",
   "execution_count": 9,
   "metadata": {},
   "outputs": [
    {
     "name": "stdout",
     "output_type": "stream",
     "text": [
      "{'status': 'ok', 'message': {'role': 'assistant', 'content': 'The CEO of Liquid is Ramin Hasani.'}}\n"
     ]
    }
   ],
   "source": [
    "messages = [{\"role\": \"user\", \"content\": \"Who is the CEO of Liquid?\", \"files\": [\"test.txt\"]}]\n",
    "response = client.complete(messages)\n",
    "print(response)"
   ]
  },
  {
   "cell_type": "code",
   "execution_count": 10,
   "metadata": {},
   "outputs": [
    {
     "name": "stdout",
     "output_type": "stream",
     "text": [
      "Deleted test.txt\n",
      "Files: [{'id': '9c4e15cc-d959-40ee-b1d5-47f4bfc4fae2', 'name': 'liquid-ai.txt', 'created_at': '2024-04-16T19:38:43.288536', 'size': 36}, {'id': 'af749359-894a-4337-8ed1-d27d2cbc902a', 'name': 'file1.txt', 'created_at': '2024-04-16T19:30:24.691463', 'size': 25}, {'id': '721f9e33-69a7-4ff9-95b8-f517a1c95a0c', 'name': 'file3.txt', 'created_at': '2024-04-16T19:30:24.503594', 'size': 25}, {'id': '483b1d34-eb63-4f81-a1d6-c3d21ac4ae4e', 'name': 'file2.txt', 'created_at': '2024-04-16T19:30:24.311238', 'size': 43}, {'id': 'f3ffc0dd-7a46-47d1-b77d-c654812aa9aa', 'name': 'attention_is_all_you_need.pdf', 'created_at': '2024-04-09T18:29:35.424818', 'size': 2215244}, {'id': '90dd0519-28c5-42ec-ad88-e31a6eeca2c7', 'name': 'gaza-news.txt', 'created_at': '2024-04-09T18:26:21.328725', 'size': 7130}]\n"
     ]
    }
   ],
   "source": [
    "client.delete_file(test_file)\n",
    "print(f\"Deleted {test_file}\")\n",
    "files = client.list_files()\n",
    "print(f\"Files: {files}\")"
   ]
  },
  {
   "cell_type": "code",
   "execution_count": 11,
   "metadata": {},
   "outputs": [
    {
     "name": "stdout",
     "output_type": "stream",
     "text": [
      "Deleted test.txt locally\n"
     ]
    }
   ],
   "source": [
    "# Delete the file locally\n",
    "import os\n",
    "\n",
    "os.remove(test_file)\n",
    "print(f\"Deleted {test_file} locally\")"
   ]
  }
 ],
 "metadata": {
  "kernelspec": {
   "display_name": "venv",
   "language": "python",
   "name": "python3"
  },
  "language_info": {
   "codemirror_mode": {
    "name": "ipython",
    "version": 3
   },
   "file_extension": ".py",
   "mimetype": "text/x-python",
   "name": "python",
   "nbconvert_exporter": "python",
   "pygments_lexer": "ipython3",
   "version": "3.10.12"
  }
 },
 "nbformat": 4,
 "nbformat_minor": 2
}
