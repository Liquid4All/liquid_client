{
  "cells": [
    {
      "cell_type": "markdown",
      "metadata": {},
      "source": [
        "## Langchain ChatOpenAI module with Liquid Endpoint\n"
      ]
    },
    {
      "cell_type": "code",
      "execution_count": 2,
      "metadata": {},
      "outputs": [
        {
          "name": "stdout",
          "output_type": "stream",
          "text": [
            "/bin/bash: /home/kelvin/liquid-chat/backend/venv/bin/pip: /home/kelvin/liquidapp/backend/venv/bin/python: bad interpreter: No such file or directory\n"
          ]
        }
      ],
      "source": [
        "! pip install --upgrade --quiet  langchain langchain-openai  langchainhub"
      ]
    },
    {
      "cell_type": "code",
      "execution_count": 2,
      "metadata": {},
      "outputs": [],
      "source": [
        "from langchain_openai import ChatOpenAI\n",
        "\n",
        "llm = ChatOpenAI(\n",
        "    # Replace with your API key created from labs.liquid.ai\n",
        "    api_key=\"7710...\",\n",
        "    base_url=\"https://labs.liquid.ai/api/v1\",\n",
        "    model=\"liquid-preview-0.1\",\n",
        ")"
      ]
    },
    {
      "cell_type": "markdown",
      "metadata": {},
      "source": [
        "### Send a string of text\n"
      ]
    },
    {
      "cell_type": "code",
      "execution_count": 3,
      "metadata": {},
      "outputs": [
        {
          "data": {
            "text/plain": [
              "AIMessage(content='I am Open Assistant, a text-based AI model trained by a collaboration of researchers, developers, and volunteers. My purpose is to assist users by providing information, answering questions, and offering helpful suggestions. I am not a single individual, but rather a collective effort to create a useful and friendly AI.', response_metadata={'token_usage': {'completion_tokens': 62, 'prompt_tokens': 16, 'total_tokens': 78}, 'model_name': 'liquid-preview-0.1', 'system_fingerprint': None, 'finish_reason': 'stop', 'logprobs': None}, id='run-b46a9a48-0bc8-42a2-af16-0d7b1705e848-0')"
            ]
          },
          "execution_count": 3,
          "metadata": {},
          "output_type": "execute_result"
        }
      ],
      "source": [
        "llm.invoke(\"Hello, who are you?\")"
      ]
    },
    {
      "cell_type": "code",
      "execution_count": 4,
      "metadata": {},
      "outputs": [
        {
          "data": {
            "text/plain": [
              "AIMessage(content='The largest animal on Earth is the blue whale (Balaenoptera musculus). It can grow up to 100 feet (30 meters) long and weigh as much as 200 tons (180 metric tonnes).', response_metadata={'token_usage': {'completion_tokens': 55, 'prompt_tokens': 20, 'total_tokens': 75}, 'model_name': 'liquid-preview-0.1', 'system_fingerprint': None, 'finish_reason': 'stop', 'logprobs': None}, id='run-2429b1a1-8fd8-456a-a7d2-de38ef4b9527-0')"
            ]
          },
          "execution_count": 4,
          "metadata": {},
          "output_type": "execute_result"
        }
      ],
      "source": [
        "llm.invoke(\"Hello, what is the largest animal on earth?\")"
      ]
    },
    {
      "cell_type": "markdown",
      "metadata": {},
      "source": [
        "### Send an array of messages including system messages\n"
      ]
    },
    {
      "cell_type": "code",
      "execution_count": 5,
      "metadata": {},
      "outputs": [
        {
          "data": {
            "text/plain": [
              "AIMessage(content=\"J'adore programmer.\", response_metadata={'token_usage': {'completion_tokens': 8, 'prompt_tokens': 41, 'total_tokens': 49}, 'model_name': 'liquid-preview-0.1', 'system_fingerprint': None, 'finish_reason': 'stop', 'logprobs': None}, id='run-7ab73b3f-ed9d-4bf8-8859-f6ae76fd8d8b-0')"
            ]
          },
          "execution_count": 5,
          "metadata": {},
          "output_type": "execute_result"
        }
      ],
      "source": [
        "messages = [\n",
        "    (\"system\", \"You are a helpful assistant that translates English to French.\"),\n",
        "    (\"human\", \"Translate this sentence from English to French. I love programming.\"),\n",
        "]\n",
        "llm.invoke(messages)"
      ]
    }
  ],
  "metadata": {
    "kernelspec": {
      "display_name": "venv",
      "language": "python",
      "name": "python3"
    },
    "language_info": {
      "codemirror_mode": {
        "name": "ipython",
        "version": 3
      },
      "file_extension": ".py",
      "mimetype": "text/x-python",
      "name": "python",
      "nbconvert_exporter": "python",
      "pygments_lexer": "ipython3",
      "version": "3.10.12"
    }
  },
  "nbformat": 4,
  "nbformat_minor": 2
}
