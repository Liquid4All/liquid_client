{
 "cells": [
  {
   "cell_type": "markdown",
   "metadata": {},
   "source": [
    "## Langchain ChatOpenAI module with Liquid Endpoint\n"
   ]
  },
  {
   "cell_type": "code",
   "execution_count": 2,
   "metadata": {},
   "outputs": [
    {
     "name": "stdout",
     "output_type": "stream",
     "text": [
      "/bin/bash: /home/kelvin/liquid-chat/backend/venv/bin/pip: /home/kelvin/liquidapp/backend/venv/bin/python: bad interpreter: No such file or directory\n"
     ]
    }
   ],
   "source": [
    "! pip install --upgrade --quiet  langchain langchain-openai  langchainhub"
   ]
  },
  {
   "cell_type": "code",
   "execution_count": 4,
   "metadata": {},
   "outputs": [],
   "source": [
    "from langchain_openai import ChatOpenAI\n",
    "\n",
    "llm = ChatOpenAI(\n",
    "    # Replace with your API key created from labs.liquid.ai\n",
    "    api_key=\"7710b77a74ae20bb32db1a5d56a03db6adba0d49e756c26c4b0484ff61905eb1\",\n",
    "    base_url=\"https://labs.liquid.ai/api/v1\",\n",
    "    model=\"liquid-beacon-1.0\",\n",
    ")"
   ]
  },
  {
   "cell_type": "code",
   "execution_count": 5,
   "metadata": {},
   "outputs": [
    {
     "data": {
      "text/plain": [
       "AIMessage(content='I am an AI language model, designed to assist users by providing information, answering questions, and engaging in conversation. I am not a human, but a machine learning model trained to simulate human-like responses. My purpose is to help and assist you in the best way I can.', response_metadata={'token_usage': {'completion_tokens': 59, 'prompt_tokens': 16, 'total_tokens': 75}, 'model_name': 'liquid-beacon-1.0', 'system_fingerprint': None, 'finish_reason': 'stop', 'logprobs': None}, id='run-1b4623ed-c905-4836-ab04-e584eeba0ef9-0')"
      ]
     },
     "execution_count": 5,
     "metadata": {},
     "output_type": "execute_result"
    }
   ],
   "source": [
    "llm.invoke(\"Hello, who are you?\")"
   ]
  },
  {
   "cell_type": "code",
   "execution_count": 6,
   "metadata": {},
   "outputs": [
    {
     "data": {
      "text/plain": [
       "AIMessage(content='The largest animal on Earth is the Blue Whale (Balaenoptera musculus). It can grow up to 100 feet long and weigh as much as 200 tons.', response_metadata={'token_usage': {'completion_tokens': 43, 'prompt_tokens': 20, 'total_tokens': 63}, 'model_name': 'liquid-beacon-1.0', 'system_fingerprint': None, 'finish_reason': 'stop', 'logprobs': None}, id='run-fa692d52-74a7-4586-8efb-ea233909403f-0')"
      ]
     },
     "execution_count": 6,
     "metadata": {},
     "output_type": "execute_result"
    }
   ],
   "source": [
    "llm.invoke(\"Hello, what is the largest animal on earth?\")"
   ]
  },
  {
   "cell_type": "markdown",
   "metadata": {},
   "source": []
  }
 ],
 "metadata": {
  "kernelspec": {
   "display_name": "venv",
   "language": "python",
   "name": "python3"
  },
  "language_info": {
   "codemirror_mode": {
    "name": "ipython",
    "version": 3
   },
   "file_extension": ".py",
   "mimetype": "text/x-python",
   "name": "python",
   "nbconvert_exporter": "python",
   "pygments_lexer": "ipython3",
   "version": "3.10.12"
  }
 },
 "nbformat": 4,
 "nbformat_minor": 2
}
