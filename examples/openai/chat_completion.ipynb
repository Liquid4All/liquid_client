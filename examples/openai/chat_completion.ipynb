{
 "cells": [
  {
   "cell_type": "code",
   "execution_count": 1,
   "metadata": {},
   "outputs": [
    {
     "name": "stdout",
     "output_type": "stream",
     "text": [
      "/bin/bash: /home/kelvin/liquid-chat/backend/venv/bin/pip: /home/kelvin/liquidapp/backend/venv/bin/python: bad interpreter: No such file or directory\n"
     ]
    }
   ],
   "source": [
    "! pip install --upgrade --quiet  openai"
   ]
  },
  {
   "cell_type": "code",
   "execution_count": 2,
   "metadata": {},
   "outputs": [],
   "source": [
    "from openai import OpenAI\n",
    "\n",
    "# Create a new api key with your account if the one below is not working\n",
    "client = OpenAI(\n",
    "    # Replace with your API key created from labs.liquid.ai\n",
    "    api_key=\"7710b...\",\n",
    "    base_url=\"https://labs.liquid.ai/api/v1\",\n",
    ")"
   ]
  },
  {
   "cell_type": "markdown",
   "metadata": {},
   "source": [
    "### Basic Completion\n"
   ]
  },
  {
   "cell_type": "code",
   "execution_count": 3,
   "metadata": {},
   "outputs": [
    {
     "name": "stdout",
     "output_type": "stream",
     "text": [
      "ChatCompletion(id='cmpl-c683912d9e8146478f19f301ada98e33', choices=[Choice(finish_reason='stop', index=0, logprobs=None, message=ChatCompletionMessage(content='The largest animal on Earth is the blue whale (Balaenoptera musculus). Blue whales can grow up to 100 feet long and weigh as much as 200 tons. They are true giants of the ocean.', role='assistant', function_call=None, tool_calls=None))], created=50839, model='liquid-beacon-1.0', object='chat.completion', system_fingerprint=None, usage=CompletionUsage(completion_tokens=54, prompt_tokens=39, total_tokens=93))\n"
     ]
    }
   ],
   "source": [
    "messages = [\n",
    "    {\"role\": \"system\", \"content\": \"You are Baltazar, a friendly AI assistant trained by Liquid AI\"},\n",
    "    {\n",
    "        \"role\": \"user\",\n",
    "        \"content\": \"what is the largest animal on earth?\",\n",
    "    },\n",
    "]\n",
    "\n",
    "response = client.chat.completions.create(\n",
    "    model=\"liquid-beacon-1.0\",\n",
    "    messages=messages,\n",
    ")\n",
    "\n",
    "print(response)"
   ]
  }
 ],
 "metadata": {
  "kernelspec": {
   "display_name": "venv",
   "language": "python",
   "name": "python3"
  },
  "language_info": {
   "codemirror_mode": {
    "name": "ipython",
    "version": 3
   },
   "file_extension": ".py",
   "mimetype": "text/x-python",
   "name": "python",
   "nbconvert_exporter": "python",
   "pygments_lexer": "ipython3",
   "version": "3.10.12"
  }
 },
 "nbformat": 4,
 "nbformat_minor": 2
}
