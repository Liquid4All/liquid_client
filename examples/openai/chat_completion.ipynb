{
  "cells": [
    {
      "cell_type": "code",
      "execution_count": 1,
      "metadata": {},
      "outputs": [
        {
          "name": "stdout",
          "output_type": "stream",
          "text": [
            "/bin/bash: /home/kelvin/liquid-chat/backend/venv/bin/pip: /home/kelvin/liquidapp/backend/venv/bin/python: bad interpreter: No such file or directory\n"
          ]
        }
      ],
      "source": [
        "! pip install --upgrade --quiet  openai"
      ]
    },
    {
      "cell_type": "code",
      "execution_count": 2,
      "metadata": {},
      "outputs": [],
      "source": [
        "from openai import OpenAI\n",
        "import getpass\n",
        "\n",
        "api_key = getpass.getpass()\n",
        "# Create a new api key with your account if the one below is not working\n",
        "client = OpenAI(\n",
        "    # Replace with your API key created from labs.liquid.ai\n",
        "    api_key=api_key,\n",
        "    base_url=\"https://labs.liquid.ai/api/v1\",\n",
        ")"
      ]
    },
    {
      "cell_type": "markdown",
      "metadata": {},
      "source": [
        "### Basic Completion\n"
      ]
    },
    {
      "cell_type": "code",
      "execution_count": 3,
      "metadata": {},
      "outputs": [
        {
          "name": "stdout",
          "output_type": "stream",
          "text": [
            "ChatCompletion(id='cmpl-c683912d9e8146478f19f301ada98e33', choices=[Choice(finish_reason='stop', index=0, logprobs=None, message=ChatCompletionMessage(content='The largest animal on Earth is the blue whale (Balaenoptera musculus). Blue whales can grow up to 100 feet long and weigh as much as 200 tons. They are true giants of the ocean.', role='assistant', function_call=None, tool_calls=None))], created=50839, model='liquid-preview-0.1', object='chat.completion', system_fingerprint=None, usage=CompletionUsage(completion_tokens=54, prompt_tokens=39, total_tokens=93))\n"
          ]
        }
      ],
      "source": [
        "messages = [\n",
        "    {\n",
        "        \"role\": \"system\",\n",
        "        \"content\": \"You are Baltazar, a friendly AI assistant trained by Liquid AI\",\n",
        "    },\n",
        "    {\n",
        "        \"role\": \"user\",\n",
        "        \"content\": \"what is the largest animal on earth?\",\n",
        "    },\n",
        "]\n",
        "\n",
        "response = client.chat.completions.create(\n",
        "    model=\"liquid-preview-0.1\",\n",
        "    messages=messages,\n",
        ")\n",
        "\n",
        "print(response)"
      ]
    },
    {
      "cell_type": "markdown",
      "metadata": {},
      "source": [
        "### Streaming\n"
      ]
    },
    {
      "cell_type": "code",
      "execution_count": 9,
      "metadata": {},
      "outputs": [
        {
          "name": "stdout",
          "output_type": "stream",
          "text": [
            "<openai.Stream object at 0x104b61d80>\n"
          ]
        }
      ],
      "source": [
        "messages = [\n",
        "    {\n",
        "        \"role\": \"system\",\n",
        "        \"content\": \"You are Baltazar, a friendly AI assistant trained by Liquid AI\",\n",
        "    },\n",
        "    {\n",
        "        \"role\": \"user\",\n",
        "        \"content\": \"what is the largest animal on earth?\",\n",
        "    },\n",
        "]\n",
        "\n",
        "response = client.chat.completions.create(\n",
        "    model=\"liquid-preview-0.1\",\n",
        "    messages=messages,\n",
        "    stream=True,\n",
        ")\n",
        "\n",
        "print(response)"
      ]
    },
    {
      "cell_type": "markdown",
      "metadata": {},
      "source": [
        "In streaming mode, chunks are returned. For the last chunk, the usage information like tokens is returned.\n",
        "\n",
        "```python\n",
        "ChatCompletionChunk(id='cmpl-2537ffd22d6844dbb1fe8bfb8673aea3', choices=[Choice(delta=ChoiceDelta(content='', function_call=None, role=None, tool_calls=None), finish_reason='stop', index=0, logprobs=None)], created=66576, model='liquid-preview-0.1', object='chat.completion.chunk', system_fingerprint=None, usage={'prompt_tokens': 39, 'total_tokens': 99, 'completion_tokens': 60})\n",
        "```\n"
      ]
    },
    {
      "cell_type": "code",
      "execution_count": 10,
      "metadata": {},
      "outputs": [
        {
          "name": "stdout",
          "output_type": "stream",
          "text": [
            "ChatCompletionChunk(id='cmpl-2537ffd22d6844dbb1fe8bfb8673aea3', choices=[Choice(delta=ChoiceDelta(content=None, function_call=None, role='assistant', tool_calls=None), finish_reason=None, index=0, logprobs=None)], created=66576, model='liquid-preview-0.1', object='chat.completion.chunk', system_fingerprint=None, usage=None)\n",
            "ChatCompletionChunk(id='cmpl-2537ffd22d6844dbb1fe8bfb8673aea3', choices=[Choice(delta=ChoiceDelta(content='The', function_call=None, role=None, tool_calls=None), finish_reason=None, index=0, logprobs=None)], created=66576, model='liquid-preview-0.1', object='chat.completion.chunk', system_fingerprint=None, usage=None)\n",
            "ChatCompletionChunk(id='cmpl-2537ffd22d6844dbb1fe8bfb8673aea3', choices=[Choice(delta=ChoiceDelta(content=' largest', function_call=None, role=None, tool_calls=None), finish_reason=None, index=0, logprobs=None)], created=66576, model='liquid-preview-0.1', object='chat.completion.chunk', system_fingerprint=None, usage=None)\n",
            "ChatCompletionChunk(id='cmpl-2537ffd22d6844dbb1fe8bfb8673aea3', choices=[Choice(delta=ChoiceDelta(content=' animal', function_call=None, role=None, tool_calls=None), finish_reason=None, index=0, logprobs=None)], created=66576, model='liquid-preview-0.1', object='chat.completion.chunk', system_fingerprint=None, usage=None)\n",
            "ChatCompletionChunk(id='cmpl-2537ffd22d6844dbb1fe8bfb8673aea3', choices=[Choice(delta=ChoiceDelta(content=' on', function_call=None, role=None, tool_calls=None), finish_reason=None, index=0, logprobs=None)], created=66576, model='liquid-preview-0.1', object='chat.completion.chunk', system_fingerprint=None, usage=None)\n",
            "ChatCompletionChunk(id='cmpl-2537ffd22d6844dbb1fe8bfb8673aea3', choices=[Choice(delta=ChoiceDelta(content=' Earth', function_call=None, role=None, tool_calls=None), finish_reason=None, index=0, logprobs=None)], created=66576, model='liquid-preview-0.1', object='chat.completion.chunk', system_fingerprint=None, usage=None)\n",
            "ChatCompletionChunk(id='cmpl-2537ffd22d6844dbb1fe8bfb8673aea3', choices=[Choice(delta=ChoiceDelta(content=' is', function_call=None, role=None, tool_calls=None), finish_reason=None, index=0, logprobs=None)], created=66576, model='liquid-preview-0.1', object='chat.completion.chunk', system_fingerprint=None, usage=None)\n",
            "ChatCompletionChunk(id='cmpl-2537ffd22d6844dbb1fe8bfb8673aea3', choices=[Choice(delta=ChoiceDelta(content=' the', function_call=None, role=None, tool_calls=None), finish_reason=None, index=0, logprobs=None)], created=66576, model='liquid-preview-0.1', object='chat.completion.chunk', system_fingerprint=None, usage=None)\n",
            "ChatCompletionChunk(id='cmpl-2537ffd22d6844dbb1fe8bfb8673aea3', choices=[Choice(delta=ChoiceDelta(content=' blue', function_call=None, role=None, tool_calls=None), finish_reason=None, index=0, logprobs=None)], created=66576, model='liquid-preview-0.1', object='chat.completion.chunk', system_fingerprint=None, usage=None)\n",
            "ChatCompletionChunk(id='cmpl-2537ffd22d6844dbb1fe8bfb8673aea3', choices=[Choice(delta=ChoiceDelta(content=' wh', function_call=None, role=None, tool_calls=None), finish_reason=None, index=0, logprobs=None)], created=66576, model='liquid-preview-0.1', object='chat.completion.chunk', system_fingerprint=None, usage=None)\n",
            "ChatCompletionChunk(id='cmpl-2537ffd22d6844dbb1fe8bfb8673aea3', choices=[Choice(delta=ChoiceDelta(content='ale', function_call=None, role=None, tool_calls=None), finish_reason=None, index=0, logprobs=None)], created=66576, model='liquid-preview-0.1', object='chat.completion.chunk', system_fingerprint=None, usage=None)\n",
            "ChatCompletionChunk(id='cmpl-2537ffd22d6844dbb1fe8bfb8673aea3', choices=[Choice(delta=ChoiceDelta(content=' (', function_call=None, role=None, tool_calls=None), finish_reason=None, index=0, logprobs=None)], created=66576, model='liquid-preview-0.1', object='chat.completion.chunk', system_fingerprint=None, usage=None)\n",
            "ChatCompletionChunk(id='cmpl-2537ffd22d6844dbb1fe8bfb8673aea3', choices=[Choice(delta=ChoiceDelta(content='B', function_call=None, role=None, tool_calls=None), finish_reason=None, index=0, logprobs=None)], created=66576, model='liquid-preview-0.1', object='chat.completion.chunk', system_fingerprint=None, usage=None)\n",
            "ChatCompletionChunk(id='cmpl-2537ffd22d6844dbb1fe8bfb8673aea3', choices=[Choice(delta=ChoiceDelta(content='ala', function_call=None, role=None, tool_calls=None), finish_reason=None, index=0, logprobs=None)], created=66576, model='liquid-preview-0.1', object='chat.completion.chunk', system_fingerprint=None, usage=None)\n",
            "ChatCompletionChunk(id='cmpl-2537ffd22d6844dbb1fe8bfb8673aea3', choices=[Choice(delta=ChoiceDelta(content='en', function_call=None, role=None, tool_calls=None), finish_reason=None, index=0, logprobs=None)], created=66576, model='liquid-preview-0.1', object='chat.completion.chunk', system_fingerprint=None, usage=None)\n",
            "ChatCompletionChunk(id='cmpl-2537ffd22d6844dbb1fe8bfb8673aea3', choices=[Choice(delta=ChoiceDelta(content='opter', function_call=None, role=None, tool_calls=None), finish_reason=None, index=0, logprobs=None)], created=66576, model='liquid-preview-0.1', object='chat.completion.chunk', system_fingerprint=None, usage=None)\n",
            "ChatCompletionChunk(id='cmpl-2537ffd22d6844dbb1fe8bfb8673aea3', choices=[Choice(delta=ChoiceDelta(content='a', function_call=None, role=None, tool_calls=None), finish_reason=None, index=0, logprobs=None)], created=66576, model='liquid-preview-0.1', object='chat.completion.chunk', system_fingerprint=None, usage=None)\n",
            "ChatCompletionChunk(id='cmpl-2537ffd22d6844dbb1fe8bfb8673aea3', choices=[Choice(delta=ChoiceDelta(content=' mus', function_call=None, role=None, tool_calls=None), finish_reason=None, index=0, logprobs=None)], created=66576, model='liquid-preview-0.1', object='chat.completion.chunk', system_fingerprint=None, usage=None)\n",
            "ChatCompletionChunk(id='cmpl-2537ffd22d6844dbb1fe8bfb8673aea3', choices=[Choice(delta=ChoiceDelta(content='cul', function_call=None, role=None, tool_calls=None), finish_reason=None, index=0, logprobs=None)], created=66576, model='liquid-preview-0.1', object='chat.completion.chunk', system_fingerprint=None, usage=None)\n",
            "ChatCompletionChunk(id='cmpl-2537ffd22d6844dbb1fe8bfb8673aea3', choices=[Choice(delta=ChoiceDelta(content='us', function_call=None, role=None, tool_calls=None), finish_reason=None, index=0, logprobs=None)], created=66576, model='liquid-preview-0.1', object='chat.completion.chunk', system_fingerprint=None, usage=None)\n",
            "ChatCompletionChunk(id='cmpl-2537ffd22d6844dbb1fe8bfb8673aea3', choices=[Choice(delta=ChoiceDelta(content=').', function_call=None, role=None, tool_calls=None), finish_reason=None, index=0, logprobs=None)], created=66576, model='liquid-preview-0.1', object='chat.completion.chunk', system_fingerprint=None, usage=None)\n",
            "ChatCompletionChunk(id='cmpl-2537ffd22d6844dbb1fe8bfb8673aea3', choices=[Choice(delta=ChoiceDelta(content=' Adult', function_call=None, role=None, tool_calls=None), finish_reason=None, index=0, logprobs=None)], created=66576, model='liquid-preview-0.1', object='chat.completion.chunk', system_fingerprint=None, usage=None)\n",
            "ChatCompletionChunk(id='cmpl-2537ffd22d6844dbb1fe8bfb8673aea3', choices=[Choice(delta=ChoiceDelta(content=' blue', function_call=None, role=None, tool_calls=None), finish_reason=None, index=0, logprobs=None)], created=66576, model='liquid-preview-0.1', object='chat.completion.chunk', system_fingerprint=None, usage=None)\n",
            "ChatCompletionChunk(id='cmpl-2537ffd22d6844dbb1fe8bfb8673aea3', choices=[Choice(delta=ChoiceDelta(content=' wh', function_call=None, role=None, tool_calls=None), finish_reason=None, index=0, logprobs=None)], created=66576, model='liquid-preview-0.1', object='chat.completion.chunk', system_fingerprint=None, usage=None)\n",
            "ChatCompletionChunk(id='cmpl-2537ffd22d6844dbb1fe8bfb8673aea3', choices=[Choice(delta=ChoiceDelta(content='ales', function_call=None, role=None, tool_calls=None), finish_reason=None, index=0, logprobs=None)], created=66576, model='liquid-preview-0.1', object='chat.completion.chunk', system_fingerprint=None, usage=None)\n",
            "ChatCompletionChunk(id='cmpl-2537ffd22d6844dbb1fe8bfb8673aea3', choices=[Choice(delta=ChoiceDelta(content=' can', function_call=None, role=None, tool_calls=None), finish_reason=None, index=0, logprobs=None)], created=66576, model='liquid-preview-0.1', object='chat.completion.chunk', system_fingerprint=None, usage=None)\n",
            "ChatCompletionChunk(id='cmpl-2537ffd22d6844dbb1fe8bfb8673aea3', choices=[Choice(delta=ChoiceDelta(content=' reach', function_call=None, role=None, tool_calls=None), finish_reason=None, index=0, logprobs=None)], created=66576, model='liquid-preview-0.1', object='chat.completion.chunk', system_fingerprint=None, usage=None)\n",
            "ChatCompletionChunk(id='cmpl-2537ffd22d6844dbb1fe8bfb8673aea3', choices=[Choice(delta=ChoiceDelta(content=' lengths', function_call=None, role=None, tool_calls=None), finish_reason=None, index=0, logprobs=None)], created=66576, model='liquid-preview-0.1', object='chat.completion.chunk', system_fingerprint=None, usage=None)\n",
            "ChatCompletionChunk(id='cmpl-2537ffd22d6844dbb1fe8bfb8673aea3', choices=[Choice(delta=ChoiceDelta(content=' of', function_call=None, role=None, tool_calls=None), finish_reason=None, index=0, logprobs=None)], created=66576, model='liquid-preview-0.1', object='chat.completion.chunk', system_fingerprint=None, usage=None)\n",
            "ChatCompletionChunk(id='cmpl-2537ffd22d6844dbb1fe8bfb8673aea3', choices=[Choice(delta=ChoiceDelta(content=' up', function_call=None, role=None, tool_calls=None), finish_reason=None, index=0, logprobs=None)], created=66576, model='liquid-preview-0.1', object='chat.completion.chunk', system_fingerprint=None, usage=None)\n",
            "ChatCompletionChunk(id='cmpl-2537ffd22d6844dbb1fe8bfb8673aea3', choices=[Choice(delta=ChoiceDelta(content=' to', function_call=None, role=None, tool_calls=None), finish_reason=None, index=0, logprobs=None)], created=66576, model='liquid-preview-0.1', object='chat.completion.chunk', system_fingerprint=None, usage=None)\n",
            "ChatCompletionChunk(id='cmpl-2537ffd22d6844dbb1fe8bfb8673aea3', choices=[Choice(delta=ChoiceDelta(content=' ', function_call=None, role=None, tool_calls=None), finish_reason=None, index=0, logprobs=None)], created=66576, model='liquid-preview-0.1', object='chat.completion.chunk', system_fingerprint=None, usage=None)\n",
            "ChatCompletionChunk(id='cmpl-2537ffd22d6844dbb1fe8bfb8673aea3', choices=[Choice(delta=ChoiceDelta(content='1', function_call=None, role=None, tool_calls=None), finish_reason=None, index=0, logprobs=None)], created=66576, model='liquid-preview-0.1', object='chat.completion.chunk', system_fingerprint=None, usage=None)\n",
            "ChatCompletionChunk(id='cmpl-2537ffd22d6844dbb1fe8bfb8673aea3', choices=[Choice(delta=ChoiceDelta(content='0', function_call=None, role=None, tool_calls=None), finish_reason=None, index=0, logprobs=None)], created=66576, model='liquid-preview-0.1', object='chat.completion.chunk', system_fingerprint=None, usage=None)\n",
            "ChatCompletionChunk(id='cmpl-2537ffd22d6844dbb1fe8bfb8673aea3', choices=[Choice(delta=ChoiceDelta(content='0', function_call=None, role=None, tool_calls=None), finish_reason=None, index=0, logprobs=None)], created=66576, model='liquid-preview-0.1', object='chat.completion.chunk', system_fingerprint=None, usage=None)\n",
            "ChatCompletionChunk(id='cmpl-2537ffd22d6844dbb1fe8bfb8673aea3', choices=[Choice(delta=ChoiceDelta(content=' feet', function_call=None, role=None, tool_calls=None), finish_reason=None, index=0, logprobs=None)], created=66576, model='liquid-preview-0.1', object='chat.completion.chunk', system_fingerprint=None, usage=None)\n",
            "ChatCompletionChunk(id='cmpl-2537ffd22d6844dbb1fe8bfb8673aea3', choices=[Choice(delta=ChoiceDelta(content=' (', function_call=None, role=None, tool_calls=None), finish_reason=None, index=0, logprobs=None)], created=66576, model='liquid-preview-0.1', object='chat.completion.chunk', system_fingerprint=None, usage=None)\n",
            "ChatCompletionChunk(id='cmpl-2537ffd22d6844dbb1fe8bfb8673aea3', choices=[Choice(delta=ChoiceDelta(content='3', function_call=None, role=None, tool_calls=None), finish_reason=None, index=0, logprobs=None)], created=66576, model='liquid-preview-0.1', object='chat.completion.chunk', system_fingerprint=None, usage=None)\n",
            "ChatCompletionChunk(id='cmpl-2537ffd22d6844dbb1fe8bfb8673aea3', choices=[Choice(delta=ChoiceDelta(content='0', function_call=None, role=None, tool_calls=None), finish_reason=None, index=0, logprobs=None)], created=66576, model='liquid-preview-0.1', object='chat.completion.chunk', system_fingerprint=None, usage=None)\n",
            "ChatCompletionChunk(id='cmpl-2537ffd22d6844dbb1fe8bfb8673aea3', choices=[Choice(delta=ChoiceDelta(content=' meters', function_call=None, role=None, tool_calls=None), finish_reason=None, index=0, logprobs=None)], created=66576, model='liquid-preview-0.1', object='chat.completion.chunk', system_fingerprint=None, usage=None)\n",
            "ChatCompletionChunk(id='cmpl-2537ffd22d6844dbb1fe8bfb8673aea3', choices=[Choice(delta=ChoiceDelta(content=')', function_call=None, role=None, tool_calls=None), finish_reason=None, index=0, logprobs=None)], created=66576, model='liquid-preview-0.1', object='chat.completion.chunk', system_fingerprint=None, usage=None)\n",
            "ChatCompletionChunk(id='cmpl-2537ffd22d6844dbb1fe8bfb8673aea3', choices=[Choice(delta=ChoiceDelta(content=' and', function_call=None, role=None, tool_calls=None), finish_reason=None, index=0, logprobs=None)], created=66576, model='liquid-preview-0.1', object='chat.completion.chunk', system_fingerprint=None, usage=None)\n",
            "ChatCompletionChunk(id='cmpl-2537ffd22d6844dbb1fe8bfb8673aea3', choices=[Choice(delta=ChoiceDelta(content=' can', function_call=None, role=None, tool_calls=None), finish_reason=None, index=0, logprobs=None)], created=66576, model='liquid-preview-0.1', object='chat.completion.chunk', system_fingerprint=None, usage=None)\n",
            "ChatCompletionChunk(id='cmpl-2537ffd22d6844dbb1fe8bfb8673aea3', choices=[Choice(delta=ChoiceDelta(content=' weigh', function_call=None, role=None, tool_calls=None), finish_reason=None, index=0, logprobs=None)], created=66576, model='liquid-preview-0.1', object='chat.completion.chunk', system_fingerprint=None, usage=None)\n",
            "ChatCompletionChunk(id='cmpl-2537ffd22d6844dbb1fe8bfb8673aea3', choices=[Choice(delta=ChoiceDelta(content=' as', function_call=None, role=None, tool_calls=None), finish_reason=None, index=0, logprobs=None)], created=66576, model='liquid-preview-0.1', object='chat.completion.chunk', system_fingerprint=None, usage=None)\n",
            "ChatCompletionChunk(id='cmpl-2537ffd22d6844dbb1fe8bfb8673aea3', choices=[Choice(delta=ChoiceDelta(content=' much', function_call=None, role=None, tool_calls=None), finish_reason=None, index=0, logprobs=None)], created=66576, model='liquid-preview-0.1', object='chat.completion.chunk', system_fingerprint=None, usage=None)\n",
            "ChatCompletionChunk(id='cmpl-2537ffd22d6844dbb1fe8bfb8673aea3', choices=[Choice(delta=ChoiceDelta(content=' as', function_call=None, role=None, tool_calls=None), finish_reason=None, index=0, logprobs=None)], created=66576, model='liquid-preview-0.1', object='chat.completion.chunk', system_fingerprint=None, usage=None)\n",
            "ChatCompletionChunk(id='cmpl-2537ffd22d6844dbb1fe8bfb8673aea3', choices=[Choice(delta=ChoiceDelta(content=' ', function_call=None, role=None, tool_calls=None), finish_reason=None, index=0, logprobs=None)], created=66576, model='liquid-preview-0.1', object='chat.completion.chunk', system_fingerprint=None, usage=None)\n",
            "ChatCompletionChunk(id='cmpl-2537ffd22d6844dbb1fe8bfb8673aea3', choices=[Choice(delta=ChoiceDelta(content='2', function_call=None, role=None, tool_calls=None), finish_reason=None, index=0, logprobs=None)], created=66576, model='liquid-preview-0.1', object='chat.completion.chunk', system_fingerprint=None, usage=None)\n",
            "ChatCompletionChunk(id='cmpl-2537ffd22d6844dbb1fe8bfb8673aea3', choices=[Choice(delta=ChoiceDelta(content='0', function_call=None, role=None, tool_calls=None), finish_reason=None, index=0, logprobs=None)], created=66576, model='liquid-preview-0.1', object='chat.completion.chunk', system_fingerprint=None, usage=None)\n",
            "ChatCompletionChunk(id='cmpl-2537ffd22d6844dbb1fe8bfb8673aea3', choices=[Choice(delta=ChoiceDelta(content='0', function_call=None, role=None, tool_calls=None), finish_reason=None, index=0, logprobs=None)], created=66576, model='liquid-preview-0.1', object='chat.completion.chunk', system_fingerprint=None, usage=None)\n",
            "ChatCompletionChunk(id='cmpl-2537ffd22d6844dbb1fe8bfb8673aea3', choices=[Choice(delta=ChoiceDelta(content=' tons', function_call=None, role=None, tool_calls=None), finish_reason=None, index=0, logprobs=None)], created=66576, model='liquid-preview-0.1', object='chat.completion.chunk', system_fingerprint=None, usage=None)\n",
            "ChatCompletionChunk(id='cmpl-2537ffd22d6844dbb1fe8bfb8673aea3', choices=[Choice(delta=ChoiceDelta(content=' (', function_call=None, role=None, tool_calls=None), finish_reason=None, index=0, logprobs=None)], created=66576, model='liquid-preview-0.1', object='chat.completion.chunk', system_fingerprint=None, usage=None)\n",
            "ChatCompletionChunk(id='cmpl-2537ffd22d6844dbb1fe8bfb8673aea3', choices=[Choice(delta=ChoiceDelta(content='1', function_call=None, role=None, tool_calls=None), finish_reason=None, index=0, logprobs=None)], created=66576, model='liquid-preview-0.1', object='chat.completion.chunk', system_fingerprint=None, usage=None)\n",
            "ChatCompletionChunk(id='cmpl-2537ffd22d6844dbb1fe8bfb8673aea3', choices=[Choice(delta=ChoiceDelta(content='8', function_call=None, role=None, tool_calls=None), finish_reason=None, index=0, logprobs=None)], created=66576, model='liquid-preview-0.1', object='chat.completion.chunk', system_fingerprint=None, usage=None)\n",
            "ChatCompletionChunk(id='cmpl-2537ffd22d6844dbb1fe8bfb8673aea3', choices=[Choice(delta=ChoiceDelta(content='0', function_call=None, role=None, tool_calls=None), finish_reason=None, index=0, logprobs=None)], created=66576, model='liquid-preview-0.1', object='chat.completion.chunk', system_fingerprint=None, usage=None)\n",
            "ChatCompletionChunk(id='cmpl-2537ffd22d6844dbb1fe8bfb8673aea3', choices=[Choice(delta=ChoiceDelta(content=' metric', function_call=None, role=None, tool_calls=None), finish_reason=None, index=0, logprobs=None)], created=66576, model='liquid-preview-0.1', object='chat.completion.chunk', system_fingerprint=None, usage=None)\n",
            "ChatCompletionChunk(id='cmpl-2537ffd22d6844dbb1fe8bfb8673aea3', choices=[Choice(delta=ChoiceDelta(content=' ton', function_call=None, role=None, tool_calls=None), finish_reason=None, index=0, logprobs=None)], created=66576, model='liquid-preview-0.1', object='chat.completion.chunk', system_fingerprint=None, usage=None)\n",
            "ChatCompletionChunk(id='cmpl-2537ffd22d6844dbb1fe8bfb8673aea3', choices=[Choice(delta=ChoiceDelta(content='nes', function_call=None, role=None, tool_calls=None), finish_reason=None, index=0, logprobs=None)], created=66576, model='liquid-preview-0.1', object='chat.completion.chunk', system_fingerprint=None, usage=None)\n",
            "ChatCompletionChunk(id='cmpl-2537ffd22d6844dbb1fe8bfb8673aea3', choices=[Choice(delta=ChoiceDelta(content=').', function_call=None, role=None, tool_calls=None), finish_reason=None, index=0, logprobs=None)], created=66576, model='liquid-preview-0.1', object='chat.completion.chunk', system_fingerprint=None, usage=None)\n",
            "ChatCompletionChunk(id='cmpl-2537ffd22d6844dbb1fe8bfb8673aea3', choices=[Choice(delta=ChoiceDelta(content='', function_call=None, role=None, tool_calls=None), finish_reason='stop', index=0, logprobs=None)], created=66576, model='liquid-preview-0.1', object='chat.completion.chunk', system_fingerprint=None, usage={'prompt_tokens': 39, 'total_tokens': 99, 'completion_tokens': 60})\n"
          ]
        }
      ],
      "source": [
        "for res in response:\n",
        "    print(res)"
      ]
    },
    {
      "cell_type": "markdown",
      "metadata": {},
      "source": []
    }
  ],
  "metadata": {
    "kernelspec": {
      "display_name": "venv",
      "language": "python",
      "name": "python3"
    },
    "language_info": {
      "codemirror_mode": {
        "name": "ipython",
        "version": 3
      },
      "file_extension": ".py",
      "mimetype": "text/x-python",
      "name": "python",
      "nbconvert_exporter": "python",
      "pygments_lexer": "ipython3",
      "version": "3.10.9"
    }
  },
  "nbformat": 4,
  "nbformat_minor": 2
}
