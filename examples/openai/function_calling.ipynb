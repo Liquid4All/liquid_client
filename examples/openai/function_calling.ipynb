{
  "cells": [
    {
      "cell_type": "markdown",
      "metadata": {},
      "source": [
        "# Tool Calling\n",
        "\n",
        "This notebook demonstrate tool calling on chat/completions endpoint using openai interface.\n"
      ]
    },
    {
      "cell_type": "code",
      "execution_count": 6,
      "metadata": {},
      "outputs": [],
      "source": [
        "from openai import OpenAI\n",
        "import getpass\n",
        "\n",
        "api_key = getpass.getpass()\n",
        "\n",
        "# Create a new api key with your account if the one below is not working\n",
        "client = OpenAI(\n",
        "    api_key=api_key,\n",
        "    base_url=\"https://labs.liquid.ai/api/v1\",\n",
        ")"
      ]
    },
    {
      "cell_type": "markdown",
      "metadata": {},
      "source": [
        "Load the tools\n"
      ]
    },
    {
      "cell_type": "code",
      "execution_count": 7,
      "metadata": {},
      "outputs": [],
      "source": [
        "tools = [\n",
        "    {\n",
        "        \"type\": \"function\",\n",
        "        \"function\": {\n",
        "            \"name\": \"get_current_weather\",\n",
        "            \"description\": \"Get the current weather\",\n",
        "            \"parameters\": {\n",
        "                \"type\": \"object\",\n",
        "                \"properties\": {\n",
        "                    \"location\": {\n",
        "                        \"type\": \"string\",\n",
        "                        \"description\": \"The city and state, e.g. <city>, <state>\",\n",
        "                    },\n",
        "                    \"format\": {\n",
        "                        \"type\": \"string\",\n",
        "                        \"enum\": [\"celsius\", \"fahrenheit\"],\n",
        "                        \"description\": \"The temperature unit to use. Infer this from the users location.\",\n",
        "                    },\n",
        "                },\n",
        "                \"required\": [\"location\", \"format\"],\n",
        "            },\n",
        "        },\n",
        "    },\n",
        "    {\n",
        "        \"type\": \"function\",\n",
        "        \"function\": {\n",
        "            \"name\": \"get_n_day_weather_forecast\",\n",
        "            \"description\": \"Get an N-day weather forecast\",\n",
        "            \"parameters\": {\n",
        "                \"type\": \"object\",\n",
        "                \"properties\": {\n",
        "                    \"location\": {\n",
        "                        \"type\": \"string\",\n",
        "                        \"description\": \"The city and state, e.g. <city>, <state>\",\n",
        "                    },\n",
        "                    \"format\": {\n",
        "                        \"type\": \"string\",\n",
        "                        \"enum\": [\"celsius\", \"fahrenheit\"],\n",
        "                        \"description\": \"The temperature unit to use. Infer this from the users location.\",\n",
        "                    },\n",
        "                    \"num_days\": {\n",
        "                        \"type\": \"integer\",\n",
        "                        \"description\": \"The number of days to forecast\",\n",
        "                    },\n",
        "                },\n",
        "                \"required\": [\"location\", \"format\", \"num_days\"],\n",
        "            },\n",
        "        },\n",
        "    },\n",
        "]"
      ]
    },
    {
      "cell_type": "markdown",
      "metadata": {},
      "source": [
        "### Trigger tool call in one message\n"
      ]
    },
    {
      "cell_type": "markdown",
      "metadata": {},
      "source": [
        "Tool calling returns no content, but a tool_calls object is returned in the response. This object contains information about the function name and arugments that will be called later.\n"
      ]
    },
    {
      "cell_type": "code",
      "execution_count": 8,
      "metadata": {},
      "outputs": [
        {
          "name": "stdout",
          "output_type": "stream",
          "text": [
            "ChatCompletion(id='cmpl-ce80c1a3a35d4aefa6ff1164d080ea6e', choices=[Choice(finish_reason='tool_calls', index=None, logprobs=None, message=ChatCompletionMessage(content=None, role='assistant', function_call=None, tool_calls=[ChatCompletionMessageToolCall(id='call_79721a8fc37044ff95f74377f9f2608f', function=Function(arguments={'location': 'Glasgow, Scotland', 'format': 'celsius', 'num_days': 5}, name='get_n_day_weather_forecast'), type='function')]))], created=66140, model='liquid-preview-0.1', object='chat.completion', system_fingerprint=None, usage=CompletionUsage(completion_tokens=74, prompt_tokens=630, total_tokens=704), systen_fingerprint=None)\n"
          ]
        }
      ],
      "source": [
        "messages = []\n",
        "messages.append(\n",
        "    {\n",
        "        \"role\": \"system\",\n",
        "        \"content\": \"Don't make assumptions about what values to plug into functions. Ask for clarification if a user request is ambiguous.\",\n",
        "    }\n",
        ")\n",
        "# This message will trigger get_n_day_weather_forecast\n",
        "messages.append(\n",
        "    {\n",
        "        \"role\": \"user\",\n",
        "        \"content\": \"what is the weather going to be like in Glasgow, Scotland over the next 5 days\",\n",
        "    }\n",
        ")\n",
        "\n",
        "response = client.chat.completions.create(\n",
        "    model=\"liquid-preview-0.1\",\n",
        "    messages=messages,\n",
        "    tools=tools,\n",
        ")\n",
        "\n",
        "print(response)"
      ]
    },
    {
      "cell_type": "markdown",
      "metadata": {},
      "source": [
        "### Trigger another tool call\n",
        "\n",
        "Depending on the prompt, the model may choose to use a different function to better fit the context.\n"
      ]
    },
    {
      "cell_type": "code",
      "execution_count": 9,
      "metadata": {},
      "outputs": [
        {
          "name": "stdout",
          "output_type": "stream",
          "text": [
            "ChatCompletion(id='cmpl-d780da3d97f844fb89640978957ee605', choices=[Choice(finish_reason='tool_calls', index=None, logprobs=None, message=ChatCompletionMessage(content=None, role='assistant', function_call=None, tool_calls=[ChatCompletionMessageToolCall(id='call_130107736e7848d08b9c51113d3b9e60', function=Function(arguments={'location': 'Milpitas', 'format': 'celsius'}, name='get_current_weather'), type='function')]))], created=66279, model='liquid-preview-0.1', object='chat.completion', system_fingerprint=None, usage=CompletionUsage(completion_tokens=43, prompt_tokens=591, total_tokens=634), systen_fingerprint=None)\n"
          ]
        }
      ],
      "source": [
        "messages = []\n",
        "# This message will trigger get_current_weather instead.\n",
        "messages.append(\n",
        "    {\n",
        "        \"role\": \"user\",\n",
        "        \"content\": \"what is the current weather in milpitas?\",\n",
        "    }\n",
        ")\n",
        "\n",
        "response = client.chat.completions.create(\n",
        "    model=\"liquid-preview-0.1\",\n",
        "    messages=messages,\n",
        "    tools=tools,\n",
        ")\n",
        "print(response)"
      ]
    },
    {
      "cell_type": "markdown",
      "metadata": {},
      "source": [
        "### Agent will ask for clarification if the user request is ambiguous\n",
        "\n",
        "In this example, the tool is not called. The agent asks for clarification on the user's request.\n"
      ]
    },
    {
      "cell_type": "code",
      "execution_count": 11,
      "metadata": {},
      "outputs": [
        {
          "name": "stdout",
          "output_type": "stream",
          "text": [
            "ChatCompletion(id='cmpl-ff10920d2a224d6984b254a4c5e26ded', choices=[Choice(finish_reason='stop', index=None, logprobs=None, message=ChatCompletionMessage(content='To provide the weather forecast for the next 5 days, I will need to know the location for which you want the forecast. Could you please specify a city and state?', role='assistant', function_call=None, tool_calls=None))], created=66338, model='liquid-preview-0.1', object='chat.completion', system_fingerprint=None, usage=CompletionUsage(completion_tokens=36, prompt_tokens=595, total_tokens=631), systen_fingerprint=None)\n"
          ]
        }
      ],
      "source": [
        "messages = []\n",
        "messages.append(\n",
        "    {\n",
        "        \"role\": \"user\",\n",
        "        \"content\": \"what is the weather going to be like in the next 5 days\",\n",
        "    }\n",
        ")\n",
        "\n",
        "\n",
        "def message_assistant(messages):\n",
        "    response = client.chat.completions.create(\n",
        "        model=\"liquid-preview-0.1\",\n",
        "        messages=messages,\n",
        "        tools=tools,\n",
        "    )\n",
        "    return response\n",
        "\n",
        "\n",
        "response = message_assistant(messages)\n",
        "print(response)"
      ]
    },
    {
      "cell_type": "markdown",
      "metadata": {},
      "source": [
        "The Agent returns a tool call when gathered enough information for the tool.\n"
      ]
    },
    {
      "cell_type": "code",
      "execution_count": 12,
      "metadata": {},
      "outputs": [
        {
          "name": "stdout",
          "output_type": "stream",
          "text": [
            "ChatCompletion(id='cmpl-fd6e1a286d6c4b8b91be5df2589cd1bd', choices=[Choice(finish_reason='tool_calls', index=None, logprobs=None, message=ChatCompletionMessage(content=None, role='assistant', function_call=None, tool_calls=[ChatCompletionMessageToolCall(id='call_1af4c1ebc1c942f58d5547d7efc9f4ce', function=Function(arguments={'location': 'Milpitas, CA', 'format': 'celsius', 'num_days': 5}, name='get_n_day_weather_forecast'), type='function')]))], created=66378, model='liquid-preview-0.1', object='chat.completion', system_fingerprint=None, usage=CompletionUsage(completion_tokens=59, prompt_tokens=605, total_tokens=664), systen_fingerprint=None)\n"
          ]
        }
      ],
      "source": [
        "messages.append(\n",
        "    {\n",
        "        \"role\": \"user\",\n",
        "        \"content\": \"Milpitas CA\",\n",
        "    }\n",
        ")\n",
        "response = message_assistant(messages)\n",
        "print(response)"
      ]
    }
  ],
  "metadata": {
    "kernelspec": {
      "display_name": "venv",
      "language": "python",
      "name": "python3"
    },
    "language_info": {
      "codemirror_mode": {
        "name": "ipython",
        "version": 3
      },
      "file_extension": ".py",
      "mimetype": "text/x-python",
      "name": "python",
      "nbconvert_exporter": "python",
      "pygments_lexer": "ipython3",
      "version": "3.10.9"
    }
  },
  "nbformat": 4,
  "nbformat_minor": 2
}
